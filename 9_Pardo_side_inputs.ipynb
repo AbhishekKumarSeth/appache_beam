{
 "cells": [
  {
   "cell_type": "code",
   "execution_count": 6,
   "source": [
    "import apache_beam as beam\r\n",
    "\r\n",
    "p = beam.Pipeline()\r\n",
    "\r\n",
    "side_list = []\r\n",
    "with open('source datasets/customers_exclude.txt', 'r') as exclude_file:\r\n",
    "    for cust_id in exclude_file:\r\n",
    "        side_list.append(cust_id.rstrip())\r\n",
    "\r\n",
    "print(side_list)\r\n",
    "\r\n",
    "\r\n",
    "class SplitRow(beam.DoFn):\r\n",
    "    def process(self, element, side_list):\r\n",
    "        customer = element.split(',')\r\n",
    "        if customer[0] not in side_list:\r\n",
    "            return [customer]\r\n",
    "\r\n",
    "customers = (\r\n",
    "    p\r\n",
    "    | 'Read Custmer File' >> beam.io.ReadFromText('source datasets/Customers_age.txt')\r\n",
    "    | 'exclude the customer' >> beam.ParDo(SplitRow(), side_list)\r\n",
    "    | 'write the excluded customer' >> beam.io.WriteToText('output/9/result')\r\n",
    ")\r\n",
    "\r\n",
    "p.run()\r\n"
   ],
   "outputs": [
    {
     "output_type": "stream",
     "name": "stdout",
     "text": [
      "['3', '7', '10']\n"
     ]
    },
    {
     "output_type": "execute_result",
     "data": {
      "text/plain": [
       "<apache_beam.runners.portability.fn_api_runner.fn_runner.RunnerResult at 0x25a8e1d81f0>"
      ]
     },
     "metadata": {},
     "execution_count": 6
    }
   ],
   "metadata": {}
  },
  {
   "cell_type": "code",
   "execution_count": null,
   "source": [],
   "outputs": [],
   "metadata": {}
  }
 ],
 "metadata": {
  "orig_nbformat": 4,
  "language_info": {
   "name": "python",
   "version": "3.9.5",
   "mimetype": "text/x-python",
   "codemirror_mode": {
    "name": "ipython",
    "version": 3
   },
   "pygments_lexer": "ipython3",
   "nbconvert_exporter": "python",
   "file_extension": ".py"
  },
  "kernelspec": {
   "name": "python3",
   "display_name": "Python 3.9.5 64-bit ('venv_gcp': venv)"
  },
  "interpreter": {
   "hash": "bd4390d0726bc5b98a7e5504118d981a614a8c025400c3c89daac0b8fa356694"
  }
 },
 "nbformat": 4,
 "nbformat_minor": 2
}