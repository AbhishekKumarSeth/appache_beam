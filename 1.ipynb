{
 "cells": [
  {
   "cell_type": "code",
   "execution_count": 1,
   "source": [
    "import apache_beam as beam\r\n",
    "\r\n",
    "p1 = beam.Pipeline()\r\n",
    "\r\n",
    "movie_gt_4 = (\r\n",
    "    p1\r\n",
    "    | beam.io.ReadFromText('source datasets/movies_rating.txt',skip_header_lines=1)\r\n",
    "    | beam.Map(lambda row: row.split(','))\r\n",
    "    | beam.Filter(lambda record : float(record[2]) > 4)\r\n",
    "#     | beam.io.WriteToText('sample_data/result.txt')\r\n",
    "#     | beam.io.WriteToText('sample_data/result.txt', 'ratings')\r\n",
    "#     | beam.io.WriteToText('sample_data/result', 'ratings',True, 3)\r\n",
    "#     | beam.io.WriteToText('sample_data/result', 'ratings',True, 3,'-SS-NN')\r\n",
    "    | beam.io.WriteToText('output/1/result', 'ratings',True, 2,'-SS-NN',header='MovieId,Name,Rating')\r\n",
    "#     | beam.io.WriteToText('sample_data/result', 'ratings',True, 3,'-SS-NN', compression_type=beam.io.filesystem.CompressionTypes.GZIP)\r\n",
    ")\r\n",
    "\r\n",
    "p1.run()\r\n"
   ],
   "outputs": [
    {
     "output_type": "stream",
     "name": "stderr",
     "text": [
      "c:\\python_env\\gcp_utility\\venv_gcp\\lib\\site-packages\\apache_beam\\__init__.py:82: UserWarning: This version of Apache Beam has not been sufficiently tested on Python 3.9. You may encounter bugs or missing features.\n",
      "  warnings.warn(\n"
     ]
    },
    {
     "output_type": "display_data",
     "data": {
      "application/javascript": "\n        if (typeof window.interactive_beam_jquery == 'undefined') {\n          var jqueryScript = document.createElement('script');\n          jqueryScript.src = 'https://code.jquery.com/jquery-3.4.1.slim.min.js';\n          jqueryScript.type = 'text/javascript';\n          jqueryScript.onload = function() {\n            var datatableScript = document.createElement('script');\n            datatableScript.src = 'https://cdn.datatables.net/1.10.20/js/jquery.dataTables.min.js';\n            datatableScript.type = 'text/javascript';\n            datatableScript.onload = function() {\n              window.interactive_beam_jquery = jQuery.noConflict(true);\n              window.interactive_beam_jquery(document).ready(function($){\n                \n              });\n            }\n            document.head.appendChild(datatableScript);\n          };\n          document.head.appendChild(jqueryScript);\n        } else {\n          window.interactive_beam_jquery(document).ready(function($){\n            \n          });\n        }"
     },
     "metadata": {}
    },
    {
     "output_type": "execute_result",
     "data": {
      "text/plain": [
       "<apache_beam.runners.portability.fn_api_runner.fn_runner.RunnerResult at 0x1fb38cb53d0>"
      ]
     },
     "metadata": {},
     "execution_count": 1
    }
   ],
   "metadata": {}
  },
  {
   "cell_type": "code",
   "execution_count": null,
   "source": [],
   "outputs": [],
   "metadata": {}
  }
 ],
 "metadata": {
  "kernelspec": {
   "name": "python3",
   "display_name": "Python 3.9.5 64-bit ('venv_gcp': venv)"
  },
  "language_info": {
   "codemirror_mode": {
    "name": "ipython",
    "version": 3
   },
   "file_extension": ".py",
   "mimetype": "text/x-python",
   "name": "python",
   "nbconvert_exporter": "python",
   "pygments_lexer": "ipython3",
   "version": "3.9.5"
  },
  "interpreter": {
   "hash": "bd4390d0726bc5b98a7e5504118d981a614a8c025400c3c89daac0b8fa356694"
  }
 },
 "nbformat": 4,
 "nbformat_minor": 5
}