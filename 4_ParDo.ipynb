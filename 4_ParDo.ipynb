{
 "cells": [
  {
   "cell_type": "code",
   "execution_count": 1,
   "source": [
    "import apache_beam as beam\r\n",
    "\r\n",
    "words=['peter','piper','picked','picked','peck','pepper']\r\n",
    "\r\n",
    "\r\n",
    "def FindWord(element):\r\n",
    "    if element in words:\r\n",
    "        return element\r\n",
    "    \r\n",
    "\r\n",
    "class SplitRow(beam.DoFn):\r\n",
    "    def process(self, element):\r\n",
    "        return element.split(' ')\r\n",
    "    \r\n",
    "\r\n",
    "class CalculateFrequency(beam.DoFn):\r\n",
    "    def process(self, element):\r\n",
    "        (key, value) = element\r\n",
    "        return [(key, sum(value))]    \r\n",
    "\r\n",
    "p1 = beam.Pipeline()\r\n",
    "word_count = (\r\n",
    "    p1\r\n",
    "    | 'Read Text File' >> beam.io.ReadFromText('source datasets/Peter_Piper.txt',skip_header_lines=1)\r\n",
    "    | beam.ParDo(SplitRow())\r\n",
    "#     | beam.FlatMap(lambda record: record.split(' '))\r\n",
    "    | beam.Filter(FindWord)\r\n",
    "    | beam.Map(lambda record: (record,1))\r\n",
    "    # | beam.CombinePerKey(sum)\r\n",
    "    | beam.GroupByKey()\r\n",
    "    | beam.ParDo(CalculateFrequency())\r\n",
    "    | beam.io.WriteToText('output/4/toung_twister_word_count')\r\n",
    ")\r\n",
    "\r\n",
    "p1.run()"
   ],
   "outputs": [
    {
     "output_type": "stream",
     "name": "stderr",
     "text": [
      "c:\\python_env\\gcp_utility\\venv_gcp\\lib\\site-packages\\apache_beam\\__init__.py:82: UserWarning: This version of Apache Beam has not been sufficiently tested on Python 3.9. You may encounter bugs or missing features.\n",
      "  warnings.warn(\n",
      "WARNING:apache_beam.runners.interactive.interactive_environment:Dependencies required for Interactive Beam PCollection visualization are not available, please use: `pip install apache-beam[interactive]` to install necessary dependencies to enable all data visualization features.\n"
     ]
    },
    {
     "output_type": "display_data",
     "data": {
      "application/javascript": "\n        if (typeof window.interactive_beam_jquery == 'undefined') {\n          var jqueryScript = document.createElement('script');\n          jqueryScript.src = 'https://code.jquery.com/jquery-3.4.1.slim.min.js';\n          jqueryScript.type = 'text/javascript';\n          jqueryScript.onload = function() {\n            var datatableScript = document.createElement('script');\n            datatableScript.src = 'https://cdn.datatables.net/1.10.20/js/jquery.dataTables.min.js';\n            datatableScript.type = 'text/javascript';\n            datatableScript.onload = function() {\n              window.interactive_beam_jquery = jQuery.noConflict(true);\n              window.interactive_beam_jquery(document).ready(function($){\n                \n              });\n            }\n            document.head.appendChild(datatableScript);\n          };\n          document.head.appendChild(jqueryScript);\n        } else {\n          window.interactive_beam_jquery(document).ready(function($){\n            \n          });\n        }"
     },
     "metadata": {}
    },
    {
     "output_type": "execute_result",
     "data": {
      "text/plain": [
       "<apache_beam.runners.portability.fn_api_runner.fn_runner.RunnerResult at 0x237e627de50>"
      ]
     },
     "metadata": {},
     "execution_count": 1
    }
   ],
   "metadata": {}
  },
  {
   "cell_type": "code",
   "execution_count": null,
   "source": [],
   "outputs": [],
   "metadata": {}
  }
 ],
 "metadata": {
  "kernelspec": {
   "name": "python3",
   "display_name": "Python 3.9.5 64-bit ('venv_gcp': venv)"
  },
  "language_info": {
   "codemirror_mode": {
    "name": "ipython",
    "version": 3
   },
   "file_extension": ".py",
   "mimetype": "text/x-python",
   "name": "python",
   "nbconvert_exporter": "python",
   "pygments_lexer": "ipython3",
   "version": "3.9.5"
  },
  "interpreter": {
   "hash": "bd4390d0726bc5b98a7e5504118d981a614a8c025400c3c89daac0b8fa356694"
  }
 },
 "nbformat": 4,
 "nbformat_minor": 5
}