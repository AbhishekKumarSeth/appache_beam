{
 "cells": [
  {
   "cell_type": "code",
   "execution_count": 9,
   "source": [
    "import apache_beam as beam\r\n",
    "\r\n",
    "p = beam.Pipeline()\r\n",
    "\r\n",
    "movies_name = [\r\n",
    "    (1,'Spider Man'),\r\n",
    "    (2,'Avanger'),\r\n",
    "    (3,'Spaer Man'),\r\n",
    "    (4,'Titanic'),\r\n",
    "]\r\n",
    "\r\n",
    "movies_ratings = [\r\n",
    "    (1, 3.5),\r\n",
    "    (2, 4.5),\r\n",
    "    (3, 4),\r\n",
    "    (4, 4.8),\r\n",
    "]\r\n",
    "\r\n",
    "name = p | 'Create Name PCollection' >> beam.Create(movies_name)\r\n",
    "ratings = p | 'Create rating PCollection' >> beam.Create(movies_ratings)\r\n",
    "\r\n",
    "joined_result = ({'movie_name':name,'movie_rating':ratings} | beam.CoGroupByKey()) | beam.Map(print)\r\n",
    "\r\n",
    "p.run()"
   ],
   "outputs": [
    {
     "output_type": "stream",
     "name": "stdout",
     "text": [
      "(1, {'movie_name': ['Spider Man'], 'movie_rating': [3.5]})\n",
      "(2, {'movie_name': ['Avanger'], 'movie_rating': [4.5]})\n",
      "(3, {'movie_name': ['Spaer Man'], 'movie_rating': [4]})\n",
      "(4, {'movie_name': ['Titanic'], 'movie_rating': [4.8]})\n"
     ]
    },
    {
     "output_type": "execute_result",
     "data": {
      "text/plain": [
       "<apache_beam.runners.portability.fn_api_runner.fn_runner.RunnerResult at 0x1cd862a4a90>"
      ]
     },
     "metadata": {},
     "execution_count": 9
    }
   ],
   "metadata": {}
  },
  {
   "cell_type": "code",
   "execution_count": null,
   "source": [],
   "outputs": [],
   "metadata": {}
  }
 ],
 "metadata": {
  "orig_nbformat": 4,
  "language_info": {
   "name": "python",
   "version": "3.9.5",
   "mimetype": "text/x-python",
   "codemirror_mode": {
    "name": "ipython",
    "version": 3
   },
   "pygments_lexer": "ipython3",
   "nbconvert_exporter": "python",
   "file_extension": ".py"
  },
  "kernelspec": {
   "name": "python3",
   "display_name": "Python 3.9.5 64-bit ('venv_gcp': venv)"
  },
  "interpreter": {
   "hash": "bd4390d0726bc5b98a7e5504118d981a614a8c025400c3c89daac0b8fa356694"
  }
 },
 "nbformat": 4,
 "nbformat_minor": 2
}