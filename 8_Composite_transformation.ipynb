{
 "cells": [
  {
   "cell_type": "code",
   "execution_count": 25,
   "source": [
    "import apache_beam as beam\r\n",
    "\r\n",
    "p = beam.Pipeline()\r\n",
    "\r\n",
    "def Split_Row(input_element):\r\n",
    "    return input_element.split(',')\r\n",
    "\r\n",
    "def FilterBasedOnCOuntry(country_name, input_element):\r\n",
    "    return input_element[1] == country_name\r\n",
    "\r\n",
    "def CalculateSum(elem):\r\n",
    "    return elem[0],(int(elem[2])+int(elem[3])+int(elem[4]))\r\n",
    "\r\n",
    "\r\n",
    "def FormatText(elem):\r\n",
    "    return f'{elem[0]} has received {str(elem[1])} marks'\r\n",
    "\r\n",
    "\r\n",
    "input_collection = (\r\n",
    "    p \r\n",
    "    | beam.io.ReadFromText('source datasets/students_marks.txt') \r\n",
    "    | beam.Map(Split_Row)\r\n",
    ")\r\n",
    "\r\n",
    "class MyTransform(beam.PTransform):\r\n",
    "  def expand(self, input_col):\r\n",
    "    a = (\r\n",
    "        input_col\r\n",
    "                   | 'Calculate Sum' >> beam.Map(CalculateSum)\r\n",
    "                   | 'Apply Formatting' >> beam.Map(FormatText)\r\n",
    "                   | 'print data' >> beam.Map(print)\r\n",
    "    )\r\n",
    "    return a\r\n",
    "\r\n",
    "\r\n",
    "US_pipeline = (\r\n",
    "    input_collection\r\n",
    "    | beam.Filter(lambda x : FilterBasedOnCOuntry('US', x))\r\n",
    "    # | 'Calculate Sum for US' >> beam.Map(CalculateSum)\r\n",
    "    # | 'Apply string formating for US' >> beam.Map(FormatText) \r\n",
    "    # | 'print for US' >> beam.Map(print)\r\n",
    "    | \"Composite Transformation for US\" >> MyTransform()\r\n",
    "    | 'Writing result to US file' >> beam.io.WriteToText('output/8/US_Result')\r\n",
    ")\r\n",
    "\r\n",
    "\r\n",
    "IN_pipeline = (\r\n",
    "    input_collection\r\n",
    "    | beam.Filter(lambda x : FilterBasedOnCOuntry('IN', x))\r\n",
    "    # | 'Calculate Sum for India' >> beam.Map(CalculateSum)\r\n",
    "    # | 'Apply string formating for India' >> beam.Map(FormatText) \r\n",
    "    #| 'print for IN' >> beam.Map(print)\r\n",
    "    | \"Composite Transformation for IN\" >> MyTransform()\r\n",
    "    | 'Writing result to India file' >> beam.io.WriteToText('output/8/IN_Result')\r\n",
    ")\r\n",
    "\r\n",
    "p.run()"
   ],
   "outputs": [
    {
     "output_type": "stream",
     "name": "stdout",
     "text": [
      "John has received 82 marks\n",
      "Jim has received 100 marks\n",
      "Sam has received 89 marks\n",
      "Sandhya has received 118 marks\n",
      "Naina has received 126 marks\n"
     ]
    },
    {
     "output_type": "execute_result",
     "data": {
      "text/plain": [
       "<apache_beam.runners.portability.fn_api_runner.fn_runner.RunnerResult at 0x1eb73885970>"
      ]
     },
     "metadata": {},
     "execution_count": 25
    }
   ],
   "metadata": {}
  },
  {
   "cell_type": "code",
   "execution_count": null,
   "source": [],
   "outputs": [],
   "metadata": {}
  }
 ],
 "metadata": {
  "orig_nbformat": 4,
  "language_info": {
   "name": "python",
   "version": "3.9.5",
   "mimetype": "text/x-python",
   "codemirror_mode": {
    "name": "ipython",
    "version": 3
   },
   "pygments_lexer": "ipython3",
   "nbconvert_exporter": "python",
   "file_extension": ".py"
  },
  "kernelspec": {
   "name": "python3",
   "display_name": "Python 3.9.5 64-bit ('venv_gcp': venv)"
  },
  "interpreter": {
   "hash": "bd4390d0726bc5b98a7e5504118d981a614a8c025400c3c89daac0b8fa356694"
  }
 },
 "nbformat": 4,
 "nbformat_minor": 2
}