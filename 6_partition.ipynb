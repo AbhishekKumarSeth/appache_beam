{
 "cells": [
  {
   "cell_type": "code",
   "execution_count": 4,
   "source": [
    "import apache_beam as beam\r\n",
    "\r\n",
    "p = beam.Pipeline()\r\n",
    "\r\n",
    "number = [1,2,3,4,5,6,7,8,9,10]\r\n",
    "\r\n",
    "def partition_fn(element, number_of_partition):\r\n",
    "    return 0 if element%2 == 0 else 1\r\n",
    "\r\n",
    "number_pc = p | beam.Create(number) | beam.Partition(partition_fn, 2)\r\n",
    "\r\n",
    "number_pc[0] | 'Printing first partition' >> beam.Map(print)\r\n",
    "# number_pc[1] | 'Printing second partition' >> beam.Map(print)\r\n",
    "\r\n",
    "p.run()"
   ],
   "outputs": [
    {
     "output_type": "stream",
     "name": "stdout",
     "text": [
      "1\n",
      "2\n",
      "3\n",
      "4\n",
      "5\n",
      "6\n",
      "7\n",
      "8\n",
      "9\n",
      "10\n"
     ]
    },
    {
     "output_type": "execute_result",
     "data": {
      "text/plain": [
       "<apache_beam.runners.portability.fn_api_runner.fn_runner.RunnerResult at 0x1f97046f370>"
      ]
     },
     "metadata": {},
     "execution_count": 4
    }
   ],
   "metadata": {}
  },
  {
   "cell_type": "code",
   "execution_count": null,
   "source": [],
   "outputs": [],
   "metadata": {}
  }
 ],
 "metadata": {
  "orig_nbformat": 4,
  "language_info": {
   "name": "python",
   "version": "3.9.5",
   "mimetype": "text/x-python",
   "codemirror_mode": {
    "name": "ipython",
    "version": 3
   },
   "pygments_lexer": "ipython3",
   "nbconvert_exporter": "python",
   "file_extension": ".py"
  },
  "kernelspec": {
   "name": "python3",
   "display_name": "Python 3.9.5 64-bit ('venv_gcp': venv)"
  },
  "interpreter": {
   "hash": "bd4390d0726bc5b98a7e5504118d981a614a8c025400c3c89daac0b8fa356694"
  }
 },
 "nbformat": 4,
 "nbformat_minor": 2
}