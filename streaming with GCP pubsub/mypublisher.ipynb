{
 "cells": [
  {
   "cell_type": "code",
   "execution_count": null,
   "source": [
    "# pip install google-cloud-pubsub\r\n",
    "\r\n",
    "import csv\r\n",
    "import time\r\n",
    "from google.cloud import pubsub_v1\r\n",
    "import os\r\n",
    "\r\n",
    "print(os.path)\r\n",
    "\r\n",
    "project = 'gp-ct-sbox-tax-globalbts'\r\n",
    "pubsub_topic = 'projects/gp-ct-sbox-tax-globalbts/topics/movies'\r\n",
    "service_account_key = 'key.json'\r\n",
    "os.environ[\"GOOGLE_APPLICATION_CREDENTIALS\"]= service_account_key\r\n",
    "input_file = 'movies.csv'\r\n",
    "publisher = pubsub_v1.PublisherClient()\r\n",
    "with open('movies.csv', 'rb') as file:\r\n",
    "    for row in file:\r\n",
    "        print('Publishing in Topic')\r\n",
    "        publisher.publish(pubsub_topic,row)\r\n",
    "        time.sleep(2)"
   ],
   "outputs": [],
   "metadata": {}
  }
 ],
 "metadata": {
  "orig_nbformat": 4,
  "language_info": {
   "name": "python",
   "version": "3.9.5",
   "mimetype": "text/x-python",
   "codemirror_mode": {
    "name": "ipython",
    "version": 3
   },
   "pygments_lexer": "ipython3",
   "nbconvert_exporter": "python",
   "file_extension": ".py"
  },
  "kernelspec": {
   "name": "python3",
   "display_name": "Python 3.9.5 64-bit ('venv_gcp': venv)"
  },
  "interpreter": {
   "hash": "bd4390d0726bc5b98a7e5504118d981a614a8c025400c3c89daac0b8fa356694"
  }
 },
 "nbformat": 4,
 "nbformat_minor": 2
}