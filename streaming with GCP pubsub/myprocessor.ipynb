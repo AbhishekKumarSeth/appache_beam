{
 "cells": [
  {
   "cell_type": "code",
   "execution_count": null,
   "source": [
    "# pip install google-cloud-pubsub\r\n",
    "\r\n",
    "# pip install apache_beam\r\n",
    "\r\n",
    "import apache_beam as beam\r\n",
    "from apache_beam.options.pipeline_options import PipelineOptions,StandardOptions\r\n",
    "import os\r\n",
    "from apache_beam import window\r\n",
    "\r\n",
    "serviceAccount = 'key.json'\r\n",
    "os.environ[\"GOOGLE_APPLICATION_CREDENTIALS\"]= serviceAccount\r\n",
    "\r\n",
    "input_subscription = 'projects/gp-ct-sbox-tax-globalbts/subscriptions/movies-sub'\r\n",
    "\r\n",
    "options= PipelineOptions()\r\n",
    "options.view_as(StandardOptions).streaming= True\r\n",
    "p = beam.Pipeline(options=options)\r\n",
    "\r\n",
    "comedy_movies = 'projects/gp-ct-sbox-tax-globalbts/topics/comedy_movies'\r\n",
    "\r\n",
    "pubsub_pipeline = (\r\n",
    "    p\r\n",
    "    | 'Read from pubsub topic' >> beam.io.ReadFromPubSub(subscription= input_subscription)\r\n",
    "    | 'Split the records by comma' >> beam.Map(lambda row: row.decode(\"utf-8\").split(','))\r\n",
    "    | 'Filter movies with comedy genre' >> beam.Filter(lambda row: (\"Comedy\" in row[2]))\r\n",
    "    | 'Converting to byte String' >> beam.Map(lambda row: (''.join(row).encode('utf-8')) )\r\n",
    "    | 'Publish to output topic' >> beam.io.WriteToPubSub(comedy_movies)\r\n",
    ")\r\n",
    "\r\n",
    "result = p.run()\r\n",
    "result.wait_until_finish()"
   ],
   "outputs": [],
   "metadata": {}
  },
  {
   "cell_type": "code",
   "execution_count": null,
   "source": [],
   "outputs": [],
   "metadata": {}
  }
 ],
 "metadata": {
  "orig_nbformat": 4,
  "language_info": {
   "name": "python",
   "version": "3.9.5",
   "mimetype": "text/x-python",
   "codemirror_mode": {
    "name": "ipython",
    "version": 3
   },
   "pygments_lexer": "ipython3",
   "nbconvert_exporter": "python",
   "file_extension": ".py"
  },
  "kernelspec": {
   "name": "python3",
   "display_name": "Python 3.9.5 64-bit ('venv_gcp': venv)"
  },
  "interpreter": {
   "hash": "bd4390d0726bc5b98a7e5504118d981a614a8c025400c3c89daac0b8fa356694"
  }
 },
 "nbformat": 4,
 "nbformat_minor": 2
}