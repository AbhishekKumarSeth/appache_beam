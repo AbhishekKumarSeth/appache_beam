{
 "cells": [
  {
   "cell_type": "code",
   "execution_count": null,
   "source": [
    "# pip install google-cloud-pubsub\r\n",
    "\r\n",
    "from google.cloud import pubsub_v1\r\n",
    "import time\r\n",
    "import os\r\n",
    "\r\n",
    "serviceAccount = 'key.json'\r\n",
    "os.environ[\"GOOGLE_APPLICATION_CREDENTIALS\"]= serviceAccount\r\n",
    "\r\n",
    "subscription_path = 'projects/gp-ct-sbox-tax-globalbts/subscriptions/comedy_movies-sub'\r\n",
    "subscriber = pubsub_v1.SubscriberClient()\r\n",
    "\r\n",
    "def callback(message):\r\n",
    "  print(('Recieved Message: {}'.format(message)))\r\n",
    "  message.ack()\r\n",
    "\r\n",
    "subscriber.subscribe(subscription_path,callback=callback)\r\n",
    "\r\n",
    "while True:\r\n",
    "  time.sleep(5)"
   ],
   "outputs": [],
   "metadata": {}
  }
 ],
 "metadata": {
  "orig_nbformat": 4,
  "language_info": {
   "name": "python",
   "version": "3.9.5",
   "mimetype": "text/x-python",
   "codemirror_mode": {
    "name": "ipython",
    "version": 3
   },
   "pygments_lexer": "ipython3",
   "nbconvert_exporter": "python",
   "file_extension": ".py"
  },
  "kernelspec": {
   "name": "python3",
   "display_name": "Python 3.9.5 64-bit ('venv_gcp': venv)"
  },
  "interpreter": {
   "hash": "bd4390d0726bc5b98a7e5504118d981a614a8c025400c3c89daac0b8fa356694"
  }
 },
 "nbformat": 4,
 "nbformat_minor": 2
}