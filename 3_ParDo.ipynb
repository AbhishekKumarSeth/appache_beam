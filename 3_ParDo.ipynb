{
 "cells": [
  {
   "cell_type": "code",
   "execution_count": 1,
   "source": [
    "import apache_beam as beam\r\n",
    "\r\n",
    "\r\n",
    "class SplitRow(beam.DoFn):\r\n",
    "    def process(self, element):\r\n",
    "        return [element.split(',')]\r\n",
    "    \r\n",
    "\r\n",
    "class FilterRow(beam.DoFn):\r\n",
    "    def process(self, element):\r\n",
    "        if int(element[3]) > 20:\r\n",
    "            return [element]\r\n",
    "\r\n",
    "\r\n",
    "\r\n",
    "# def SplitRow(element):\r\n",
    "#     return [element.split(',')]\r\n",
    "\r\n",
    "        \r\n",
    "# def FilterRow(element):\r\n",
    "#     return int(element[3]) > 20\r\n",
    "\r\n",
    "\r\n",
    "p1 = beam.Pipeline()\r\n",
    "\r\n",
    "cust_age = (\r\n",
    "    p1\r\n",
    "    | 'Read Customer age Text File' >> beam.io.ReadFromText('source datasets/Customers_age.txt')\r\n",
    "    | 'Split Row' >> beam.ParDo(SplitRow())\r\n",
    "    | 'Filter Row' >> beam.ParDo(FilterRow())\r\n",
    "#     | 'Split Row' >> beam.ParDo(SplitRow)\r\n",
    "#     | 'Filter Row' >> beam.Filter(FilterRow)\r\n",
    "    | 'Write the output' >> beam.io.WriteToText('output/3/result')\r\n",
    ")\r\n",
    "\r\n",
    "p1.run()"
   ],
   "outputs": [
    {
     "output_type": "stream",
     "name": "stderr",
     "text": [
      "c:\\python_env\\gcp_utility\\venv_gcp\\lib\\site-packages\\apache_beam\\__init__.py:82: UserWarning: This version of Apache Beam has not been sufficiently tested on Python 3.9. You may encounter bugs or missing features.\n",
      "  warnings.warn(\n",
      "WARNING:apache_beam.runners.interactive.interactive_environment:Dependencies required for Interactive Beam PCollection visualization are not available, please use: `pip install apache-beam[interactive]` to install necessary dependencies to enable all data visualization features.\n"
     ]
    },
    {
     "output_type": "display_data",
     "data": {
      "application/javascript": "\n        if (typeof window.interactive_beam_jquery == 'undefined') {\n          var jqueryScript = document.createElement('script');\n          jqueryScript.src = 'https://code.jquery.com/jquery-3.4.1.slim.min.js';\n          jqueryScript.type = 'text/javascript';\n          jqueryScript.onload = function() {\n            var datatableScript = document.createElement('script');\n            datatableScript.src = 'https://cdn.datatables.net/1.10.20/js/jquery.dataTables.min.js';\n            datatableScript.type = 'text/javascript';\n            datatableScript.onload = function() {\n              window.interactive_beam_jquery = jQuery.noConflict(true);\n              window.interactive_beam_jquery(document).ready(function($){\n                \n              });\n            }\n            document.head.appendChild(datatableScript);\n          };\n          document.head.appendChild(jqueryScript);\n        } else {\n          window.interactive_beam_jquery(document).ready(function($){\n            \n          });\n        }"
     },
     "metadata": {}
    },
    {
     "output_type": "execute_result",
     "data": {
      "text/plain": [
       "<apache_beam.runners.portability.fn_api_runner.fn_runner.RunnerResult at 0x20d06ccd3d0>"
      ]
     },
     "metadata": {},
     "execution_count": 1
    }
   ],
   "metadata": {}
  },
  {
   "cell_type": "code",
   "execution_count": null,
   "source": [],
   "outputs": [],
   "metadata": {}
  },
  {
   "cell_type": "code",
   "execution_count": null,
   "source": [],
   "outputs": [],
   "metadata": {}
  }
 ],
 "metadata": {
  "kernelspec": {
   "name": "python3",
   "display_name": "Python 3.9.5 64-bit ('venv_gcp': venv)"
  },
  "language_info": {
   "codemirror_mode": {
    "name": "ipython",
    "version": 3
   },
   "file_extension": ".py",
   "mimetype": "text/x-python",
   "name": "python",
   "nbconvert_exporter": "python",
   "pygments_lexer": "ipython3",
   "version": "3.9.5"
  },
  "interpreter": {
   "hash": "bd4390d0726bc5b98a7e5504118d981a614a8c025400c3c89daac0b8fa356694"
  }
 },
 "nbformat": 4,
 "nbformat_minor": 5
}