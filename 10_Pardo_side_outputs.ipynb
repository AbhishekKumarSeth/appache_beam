{
 "cells": [
  {
   "cell_type": "code",
   "execution_count": 3,
   "source": [
    "import apache_beam as beam\r\n",
    "\r\n",
    "p = beam.Pipeline()\r\n",
    "\r\n",
    "side_list = []\r\n",
    "with open('source datasets/customers_exclude.txt', 'r') as exclude_file:\r\n",
    "    for cust_id in exclude_file:\r\n",
    "        side_list.append(cust_id.rstrip())\r\n",
    "\r\n",
    "print(side_list)\r\n",
    "\r\n",
    "\r\n",
    "class SplitRow(beam.DoFn):\r\n",
    "    def process(self, element, side_list):\r\n",
    "        customer = element.split(',')\r\n",
    "        if customer[0] not in side_list:\r\n",
    "            return [customer]\r\n",
    "\r\n",
    "\r\n",
    "class ProcessCustomers(beam.DoFn):\r\n",
    "  def process(self,element,country,start_char):\r\n",
    "    if(element[2]=='NY'):\r\n",
    "      yield  element\r\n",
    "    else:\r\n",
    "      yield  beam.pvalue.TaggedOutput('Other_Cust',element)\r\n",
    "    if(element[1].startswith('J')):\r\n",
    "       yield  beam.pvalue.TaggedOutput('Names_J',element)\r\n",
    "  \r\n",
    "\r\n",
    "\r\n",
    "customers = (\r\n",
    "    p\r\n",
    "    |beam.io.ReadFromText('source datasets/Customers_age.txt')\r\n",
    "    |beam.ParDo(SplitRow(),side_list)\r\n",
    "    |beam.ParDo(ProcessCustomers(),country='NY',start_char='J').with_outputs('Names_J','Other_Cust',main='NewYork_Cust')\r\n",
    ")\r\n",
    "\r\n",
    "newyork_customers = customers.NewYork_Cust\r\n",
    "other_customers = customers.Other_Cust\r\n",
    "customer_withname_J = customers.Names_J\r\n",
    "\r\n",
    "newyork_customers | 'Write Newyork Customers PCollection' >> beam.io.WriteToText(\"output/10/newyork\")\r\n",
    "other_customers  | 'Write Customers PCollection that lives in other cities' >> beam.io.WriteToText(\"output/10/customers_other_cities\")\r\n",
    "customer_withname_J  | 'Write Customers names with J PCollection' >> beam.io.WriteToText(\"output/10/customers_names_j\")\r\n",
    "\r\n",
    "\r\n",
    "\r\n",
    "p.run()"
   ],
   "outputs": [
    {
     "output_type": "stream",
     "name": "stdout",
     "text": [
      "['3', '7', '10']\n"
     ]
    },
    {
     "output_type": "display_data",
     "data": {
      "application/javascript": "\n        if (typeof window.interactive_beam_jquery == 'undefined') {\n          var jqueryScript = document.createElement('script');\n          jqueryScript.src = 'https://code.jquery.com/jquery-3.4.1.slim.min.js';\n          jqueryScript.type = 'text/javascript';\n          jqueryScript.onload = function() {\n            var datatableScript = document.createElement('script');\n            datatableScript.src = 'https://cdn.datatables.net/1.10.20/js/jquery.dataTables.min.js';\n            datatableScript.type = 'text/javascript';\n            datatableScript.onload = function() {\n              window.interactive_beam_jquery = jQuery.noConflict(true);\n              window.interactive_beam_jquery(document).ready(function($){\n                \n              });\n            }\n            document.head.appendChild(datatableScript);\n          };\n          document.head.appendChild(jqueryScript);\n        } else {\n          window.interactive_beam_jquery(document).ready(function($){\n            \n          });\n        }"
     },
     "metadata": {}
    },
    {
     "output_type": "execute_result",
     "data": {
      "text/plain": [
       "<apache_beam.runners.portability.fn_api_runner.fn_runner.RunnerResult at 0x14b17fd5e20>"
      ]
     },
     "metadata": {},
     "execution_count": 3
    }
   ],
   "metadata": {}
  },
  {
   "cell_type": "code",
   "execution_count": null,
   "source": [],
   "outputs": [],
   "metadata": {}
  }
 ],
 "metadata": {
  "orig_nbformat": 4,
  "language_info": {
   "name": "python",
   "version": "3.9.5",
   "mimetype": "text/x-python",
   "codemirror_mode": {
    "name": "ipython",
    "version": 3
   },
   "pygments_lexer": "ipython3",
   "nbconvert_exporter": "python",
   "file_extension": ".py"
  },
  "kernelspec": {
   "name": "python3",
   "display_name": "Python 3.9.5 64-bit ('venv_gcp': venv)"
  },
  "interpreter": {
   "hash": "bd4390d0726bc5b98a7e5504118d981a614a8c025400c3c89daac0b8fa356694"
  }
 },
 "nbformat": 4,
 "nbformat_minor": 2
}