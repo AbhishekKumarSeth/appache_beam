{
 "cells": [
  {
   "cell_type": "code",
   "execution_count": 2,
   "source": [
    "import apache_beam as beam\r\n",
    "\r\n",
    "# class SplitRow(beam.DoFn):\r\n",
    "#     def process(self, element):\r\n",
    "#         return [element.split(',')]\r\n",
    "\r\n",
    "    \r\n",
    "def SplitRow(element):\r\n",
    "    return [element.split(',')]\r\n",
    "\r\n",
    "        \r\n",
    "def FilterRow(element):\r\n",
    "    return float(element[2]) > 4\r\n",
    "        \r\n",
    "\r\n",
    "p1 = beam.Pipeline()\r\n",
    "movie_gt_4 = (\r\n",
    "    p1\r\n",
    "    | 'Read Text File' >> beam.io.ReadFromText('source datasets/movies_rating.txt',skip_header_lines=1)\r\n",
    "    | 'Split Row' >> beam.ParDo(SplitRow)\r\n",
    "    | beam.Filter(FilterRow)\r\n",
    "    | beam.io.WriteToText('output/2/result')\r\n",
    "\r\n",
    ")\r\n",
    "\r\n",
    "p1.run()"
   ],
   "outputs": [
    {
     "output_type": "execute_result",
     "data": {
      "text/plain": [
       "<apache_beam.runners.portability.fn_api_runner.fn_runner.RunnerResult at 0x1fdce6d46a0>"
      ]
     },
     "metadata": {},
     "execution_count": 2
    }
   ],
   "metadata": {}
  },
  {
   "cell_type": "code",
   "execution_count": null,
   "source": [],
   "outputs": [],
   "metadata": {}
  },
  {
   "cell_type": "code",
   "execution_count": null,
   "source": [],
   "outputs": [],
   "metadata": {}
  }
 ],
 "metadata": {
  "kernelspec": {
   "name": "python3",
   "display_name": "Python 3.9.5 64-bit ('venv_gcp': venv)"
  },
  "language_info": {
   "codemirror_mode": {
    "name": "ipython",
    "version": 3
   },
   "file_extension": ".py",
   "mimetype": "text/x-python",
   "name": "python",
   "nbconvert_exporter": "python",
   "pygments_lexer": "ipython3",
   "version": "3.9.5"
  },
  "interpreter": {
   "hash": "bd4390d0726bc5b98a7e5504118d981a614a8c025400c3c89daac0b8fa356694"
  }
 },
 "nbformat": 4,
 "nbformat_minor": 5
}